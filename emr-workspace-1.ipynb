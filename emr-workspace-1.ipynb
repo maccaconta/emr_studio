{
 "cells": [
  {
   "cell_type": "markdown",
   "id": "0b6249c6",
   "metadata": {},
   "source": [
    "esse é meu primeiro notebook"
   ]
  },
  {
   "cell_type": "code",
   "execution_count": null,
   "id": "0c9aab15",
   "metadata": {},
   "outputs": [],
   "source": [
    "for _ in range(3):\n",
    "    print(_)"
   ]
  },
  {
   "cell_type": "code",
   "execution_count": null,
   "id": "cfa6ba59",
   "metadata": {},
   "outputs": [],
   "source": []
  }
 ],
 "metadata": {
  "kernelspec": {
   "display_name": "",
   "name": ""
  },
  "language_info": {
   "name": ""
  }
 },
 "nbformat": 4,
 "nbformat_minor": 5
}
